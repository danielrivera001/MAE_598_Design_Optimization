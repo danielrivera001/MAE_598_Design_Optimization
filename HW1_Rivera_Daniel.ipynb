{
 "cells": [
  {
   "cell_type": "code",
   "execution_count": 3,
   "id": "2373d407",
   "metadata": {
    "scrolled": true
   },
   "outputs": [
    {
     "name": "stdout",
     "output_type": "stream",
     "text": [
      "226\n",
      "     fun: 4.093023255813948\n",
      "     jac: array([-2.04651159, -0.18604648, -2.23255813, -2.23255813, -1.48837209])\n",
      " message: 'Optimization terminated successfully'\n",
      "    nfev: 26\n",
      "     nit: 4\n",
      "    njev: 4\n",
      "  status: 0\n",
      " success: True\n",
      "       x: array([-0.76744186,  0.25581395,  0.62790698, -0.11627908,  0.25581395])\n"
     ]
    }
   ],
   "source": [
    "#Submission by: Daniel Rivera | MAE 598: Design Optimization \n",
    "#Prof. Max Yi Ren\n",
    "import numpy as numpy\n",
    "import scipy as scipy\n",
    "\n",
    "from scipy.optimize import minimize\n",
    "\n",
    "def objective(x):\n",
    "    x1=x[0]\n",
    "    x2=x[1]\n",
    "    x3=x[2]\n",
    "    x4=x[3]\n",
    "    x5=x[4]\n",
    "\n",
    "    return (x1-x2)**2 + (x2+x3-2)**2 +(x4-1)**2 + (x5-1)**2\n",
    "def constraint1(x):\n",
    "    return x[0]+3*x[1]\n",
    "def constraint2(x):\n",
    "    return x[2]+x[3]-2*x[4]\n",
    "def constraint3(x):\n",
    "    return x[1]-x[4]\n",
    "\n",
    "x0 = [9,1,10,10,1]\n",
    "print(objective(x0))\n",
    "b=(-10,10)\n",
    "bnds=(b,b,b,b,b)\n",
    "con1={'type':'eq','fun':constraint1}\n",
    "con2={'type':'eq','fun':constraint2}\n",
    "con3={'type':'eq','fun':constraint3}\n",
    "cons=[con1, con2, con3]\n",
    "\n",
    "sol= minimize(objective,x0,method='SLSQP',bounds=bnds,constraints=cons)\n",
    "print (sol)"
   ]
  },
  {
   "cell_type": "code",
   "execution_count": null,
   "id": "76a4f613",
   "metadata": {},
   "outputs": [],
   "source": [
    "#Q1 Answer: By changing the initial guess, the values of x remain relatively the same.\n",
    "#However, after 3 significant figures, the values of xi's change"
   ]
  }
 ],
 "metadata": {
  "kernelspec": {
   "display_name": "Python 3 (ipykernel)",
   "language": "python",
   "name": "python3"
  },
  "language_info": {
   "codemirror_mode": {
    "name": "ipython",
    "version": 3
   },
   "file_extension": ".py",
   "mimetype": "text/x-python",
   "name": "python",
   "nbconvert_exporter": "python",
   "pygments_lexer": "ipython3",
   "version": "3.9.12"
  }
 },
 "nbformat": 4,
 "nbformat_minor": 5
}
